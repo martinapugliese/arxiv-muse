{
  "nbformat": 4,
  "nbformat_minor": 0,
  "metadata": {
    "colab": {
      "provenance": [],
      "authorship_tag": "ABX9TyOyLoASqjFXRblyhHKvtNRl",
      "include_colab_link": true
    },
    "kernelspec": {
      "name": "python3",
      "display_name": "Python 3"
    },
    "language_info": {
      "name": "python"
    }
  },
  "cells": [
    {
      "cell_type": "markdown",
      "metadata": {
        "id": "view-in-github",
        "colab_type": "text"
      },
      "source": [
        "<a href=\"https://colab.research.google.com/github/martinapugliese/summarise-sci-literature/blob/main/Gemini_summarise_AI_literature.ipynb\" target=\"_parent\"><img src=\"https://colab.research.google.com/assets/colab-badge.svg\" alt=\"Open In Colab\"/></a>"
      ]
    },
    {
      "cell_type": "code",
      "source": [
        "# this is to get time execution on each cell\n",
        "!pip install ipython-autotime\n",
        "\n",
        "%load_ext autotime"
      ],
      "metadata": {
        "colab": {
          "base_uri": "https://localhost:8080/"
        },
        "id": "6TV5IJ7fZ3uL",
        "outputId": "950cfc7e-e767-4e76-b406-b1cdefc6d1d1"
      },
      "execution_count": 1,
      "outputs": [
        {
          "output_type": "stream",
          "name": "stdout",
          "text": [
            "Collecting ipython-autotime\n",
            "  Downloading ipython_autotime-0.3.2-py2.py3-none-any.whl.metadata (1.4 kB)\n",
            "Requirement already satisfied: ipython in /usr/local/lib/python3.11/dist-packages (from ipython-autotime) (7.34.0)\n",
            "Requirement already satisfied: setuptools>=18.5 in /usr/local/lib/python3.11/dist-packages (from ipython->ipython-autotime) (75.1.0)\n",
            "Collecting jedi>=0.16 (from ipython->ipython-autotime)\n",
            "  Downloading jedi-0.19.2-py2.py3-none-any.whl.metadata (22 kB)\n",
            "Requirement already satisfied: decorator in /usr/local/lib/python3.11/dist-packages (from ipython->ipython-autotime) (4.4.2)\n",
            "Requirement already satisfied: pickleshare in /usr/local/lib/python3.11/dist-packages (from ipython->ipython-autotime) (0.7.5)\n",
            "Requirement already satisfied: traitlets>=4.2 in /usr/local/lib/python3.11/dist-packages (from ipython->ipython-autotime) (5.7.1)\n",
            "Requirement already satisfied: prompt-toolkit!=3.0.0,!=3.0.1,<3.1.0,>=2.0.0 in /usr/local/lib/python3.11/dist-packages (from ipython->ipython-autotime) (3.0.50)\n",
            "Requirement already satisfied: pygments in /usr/local/lib/python3.11/dist-packages (from ipython->ipython-autotime) (2.18.0)\n",
            "Requirement already satisfied: backcall in /usr/local/lib/python3.11/dist-packages (from ipython->ipython-autotime) (0.2.0)\n",
            "Requirement already satisfied: matplotlib-inline in /usr/local/lib/python3.11/dist-packages (from ipython->ipython-autotime) (0.1.7)\n",
            "Requirement already satisfied: pexpect>4.3 in /usr/local/lib/python3.11/dist-packages (from ipython->ipython-autotime) (4.9.0)\n",
            "Requirement already satisfied: parso<0.9.0,>=0.8.4 in /usr/local/lib/python3.11/dist-packages (from jedi>=0.16->ipython->ipython-autotime) (0.8.4)\n",
            "Requirement already satisfied: ptyprocess>=0.5 in /usr/local/lib/python3.11/dist-packages (from pexpect>4.3->ipython->ipython-autotime) (0.7.0)\n",
            "Requirement already satisfied: wcwidth in /usr/local/lib/python3.11/dist-packages (from prompt-toolkit!=3.0.0,!=3.0.1,<3.1.0,>=2.0.0->ipython->ipython-autotime) (0.2.13)\n",
            "Downloading ipython_autotime-0.3.2-py2.py3-none-any.whl (7.0 kB)\n",
            "Downloading jedi-0.19.2-py2.py3-none-any.whl (1.6 MB)\n",
            "\u001b[2K   \u001b[90m━━━━━━━━━━━━━━━━━━━━━━━━━━━━━━━━━━━━━━━━\u001b[0m \u001b[32m1.6/1.6 MB\u001b[0m \u001b[31m14.0 MB/s\u001b[0m eta \u001b[36m0:00:00\u001b[0m\n",
            "\u001b[?25hInstalling collected packages: jedi, ipython-autotime\n",
            "Successfully installed ipython-autotime-0.3.2 jedi-0.19.2\n",
            "time: 382 µs (started: 2025-02-17 14:41:50 +00:00)\n"
          ]
        }
      ]
    },
    {
      "cell_type": "code",
      "source": [
        "from google.colab import userdata\n",
        "\n",
        "from google import genai\n",
        "from google.genai import Client, types\n",
        "\n",
        "import requests\n",
        "import urllib.request as urllib_req\n",
        "\n",
        "from bs4 import BeautifulSoup\n",
        "\n",
        "from datetime import date, datetime\n",
        "\n",
        "import re\n",
        "\n",
        "import os\n",
        "import json\n",
        "\n",
        "import numpy as np"
      ],
      "metadata": {
        "colab": {
          "base_uri": "https://localhost:8080/"
        },
        "id": "MjqfEPBGNaoE",
        "outputId": "83b6275b-cb2d-4ea5-bc40-b7ef40b884ae"
      },
      "execution_count": 2,
      "outputs": [
        {
          "output_type": "stream",
          "name": "stderr",
          "text": [
            "/usr/local/lib/python3.11/dist-packages/pydantic/_internal/_generate_schema.py:502: UserWarning: <built-in function any> is not a Python type (it may be an instance of an object), Pydantic will allow any object with no validation since we cannot even enforce that the input is an instance of the given type. To get rid of this error wrap the type with `pydantic.SkipValidation`.\n",
            "  warn(\n"
          ]
        },
        {
          "output_type": "stream",
          "name": "stdout",
          "text": [
            "time: 4.96 s (started: 2025-02-17 14:41:51 +00:00)\n"
          ]
        }
      ]
    },
    {
      "cell_type": "markdown",
      "source": [
        "## Configs"
      ],
      "metadata": {
        "id": "PYFL0-uMJqOY"
      }
    },
    {
      "cell_type": "code",
      "source": [
        "client = genai.Client(api_key=userdata.get('GEMINI_API_KEY'))"
      ],
      "metadata": {
        "id": "rsM-SO6JNqud",
        "colab": {
          "base_uri": "https://localhost:8080/"
        },
        "outputId": "32104650-3a8b-47cd-9a76-89fa8350ad3a"
      },
      "execution_count": 3,
      "outputs": [
        {
          "output_type": "stream",
          "name": "stdout",
          "text": [
            "time: 1.05 s (started: 2025-02-17 14:41:56 +00:00)\n"
          ]
        }
      ]
    },
    {
      "cell_type": "code",
      "source": [
        "# configure which Gemini to run\n",
        "model = \"gemini-2.0-flash-lite-preview-02-05\"\n",
        "model = \"gemini-2.0-flash\""
      ],
      "metadata": {
        "id": "HFu1maz4PK_Y",
        "colab": {
          "base_uri": "https://localhost:8080/"
        },
        "outputId": "95a9e61f-5a5d-4ad5-8d82-941cc6819bba"
      },
      "execution_count": 4,
      "outputs": [
        {
          "output_type": "stream",
          "name": "stdout",
          "text": [
            "time: 538 µs (started: 2025-02-17 14:41:57 +00:00)\n"
          ]
        }
      ]
    },
    {
      "cell_type": "markdown",
      "source": [
        "## Scrape ArXiv page for latest day's AI papers\n",
        "\n",
        "Get the paper links and IDs. Use the most recent days of publications available."
      ],
      "metadata": {
        "id": "AwAzV6WeJc-4"
      }
    },
    {
      "cell_type": "code",
      "source": [
        "webpage = \"https://arxiv.org/list/cs.AI/recent?skip=0&show=2000\"  # this is the URL for all, so no need to paginate\n",
        "\n",
        "r = requests.get(webpage)\n",
        "r.status_code  # you want a 200 here"
      ],
      "metadata": {
        "colab": {
          "base_uri": "https://localhost:8080/"
        },
        "collapsed": true,
        "id": "aUUr_6uZTz9A",
        "outputId": "17640913-89a4-4948-be02-8c95c6cf0b75"
      },
      "execution_count": 5,
      "outputs": [
        {
          "output_type": "execute_result",
          "data": {
            "text/plain": [
              "200"
            ]
          },
          "metadata": {},
          "execution_count": 5
        },
        {
          "output_type": "stream",
          "name": "stdout",
          "text": [
            "time: 220 ms (started: 2025-02-17 14:41:57 +00:00)\n"
          ]
        }
      ]
    },
    {
      "cell_type": "code",
      "source": [
        "# initialise the parser\n",
        "soup = BeautifulSoup(r.content, \"html.parser\")"
      ],
      "metadata": {
        "id": "qM02iz80NXLZ",
        "colab": {
          "base_uri": "https://localhost:8080/"
        },
        "outputId": "ce5cf8b2-5579-462c-cdbd-152b8a4b67e1"
      },
      "execution_count": 6,
      "outputs": [
        {
          "output_type": "stream",
          "name": "stdout",
          "text": [
            "time: 9.19 s (started: 2025-02-17 14:41:57 +00:00)\n"
          ]
        }
      ]
    },
    {
      "cell_type": "code",
      "source": [
        "# pick the phrasing of the most recent day\n",
        "latest_day_str = soup.find_all(\"h3\")[0].text\n",
        "\n",
        "# match what's this latest day\n",
        "day = latest_day_str.split('(')[0]\n",
        "\n",
        "# and the total number of entries for that day\n",
        "match = re.search(r'of \\d+ entries', latest_day_str)\n",
        "if match:\n",
        "    n_entries = int(match.group().split(' ')[1])\n",
        "    print(day, ' - ', n_entries, 'papers')\n",
        "else:\n",
        "    print(\"Failed to isolate latest day's info\")"
      ],
      "metadata": {
        "colab": {
          "base_uri": "https://localhost:8080/"
        },
        "id": "xhte_voMMnxT",
        "outputId": "90603ea6-4366-4499-dbcc-67c74bc7a93a"
      },
      "execution_count": 7,
      "outputs": [
        {
          "output_type": "stream",
          "name": "stdout",
          "text": [
            "Mon, 17 Feb 2025   -  123 papers\n",
            "time: 108 ms (started: 2025-02-17 14:42:06 +00:00)\n"
          ]
        }
      ]
    },
    {
      "cell_type": "code",
      "source": [
        "# now find the URLs to these papers for the latest day only (up to n_entries as per above)\n",
        "paper_links = soup.find_all(\"a\", {\"title\": \"Download PDF\"})[:n_entries]\n",
        "\n",
        "# Extract the paper IDs and links\n",
        "paper_ids, paper_urls = [], []\n",
        "for link in paper_links:\n",
        "    paper_url = \"https://arxiv.org\" + link[\"href\"]\n",
        "    paper_id = link[\"href\"].split(\"/\")[-1].split(\"v\")[0]  # Extract the ID\n",
        "\n",
        "    paper_ids.append(paper_id)\n",
        "    paper_urls.append(paper_url)\n",
        "\n",
        "# # Print the IDs and links (or process them as needed)\n",
        "# for i in range(len(paper_ids)):\n",
        "#     print(f\"Paper ID: {paper_ids[i]}, URL: {paper_urls[i]}\")"
      ],
      "metadata": {
        "id": "Fp1ngoJ-YYbJ",
        "colab": {
          "base_uri": "https://localhost:8080/"
        },
        "outputId": "38dc404d-7494-409b-e35c-543b16774aaf"
      },
      "execution_count": 8,
      "outputs": [
        {
          "output_type": "stream",
          "name": "stdout",
          "text": [
            "time: 290 ms (started: 2025-02-17 14:42:06 +00:00)\n"
          ]
        }
      ]
    },
    {
      "cell_type": "code",
      "source": [
        "# separately, find all titles (this is due to how the DOM is structured)\n",
        "# they'll appear in the same order so order counts\n",
        "paper_title_divs = soup.find_all(\"div\", {\"class\": \"list-title mathjax\"})[:n_entries]\n",
        "\n",
        "paper_titles = []\n",
        "for title_div in paper_title_divs:\n",
        "    paper_titles.append(title_div.contents[1].split('\\n')[1].lstrip())"
      ],
      "metadata": {
        "colab": {
          "base_uri": "https://localhost:8080/"
        },
        "collapsed": true,
        "id": "A7GBjw9ECsoq",
        "outputId": "e37534ea-a712-44d2-aaf5-f4725211f889"
      },
      "execution_count": 9,
      "outputs": [
        {
          "output_type": "stream",
          "name": "stdout",
          "text": [
            "time: 192 ms (started: 2025-02-17 14:42:07 +00:00)\n"
          ]
        }
      ]
    },
    {
      "cell_type": "code",
      "source": [
        "len(paper_urls), len(paper_ids), len(paper_links), len(paper_titles)"
      ],
      "metadata": {
        "colab": {
          "base_uri": "https://localhost:8080/"
        },
        "id": "Zi8o9t3lKwml",
        "outputId": "73111da9-edc0-4ce7-ec9f-5b0a5c5819c8"
      },
      "execution_count": 10,
      "outputs": [
        {
          "output_type": "execute_result",
          "data": {
            "text/plain": [
              "(123, 123, 123, 123)"
            ]
          },
          "metadata": {},
          "execution_count": 10
        },
        {
          "output_type": "stream",
          "name": "stdout",
          "text": [
            "time: 9.16 ms (started: 2025-02-17 14:42:07 +00:00)\n"
          ]
        }
      ]
    },
    {
      "cell_type": "code",
      "source": [
        "# create json linking ID, title and URL\n",
        "paper_metadata = {paper_ids[i]: {'title': paper_titles[i], 'url': paper_urls[i]} for i in range(len(paper_ids))}\n",
        "json.dump(paper_metadata, open('paper_metadata.json', 'w'))"
      ],
      "metadata": {
        "colab": {
          "base_uri": "https://localhost:8080/"
        },
        "id": "LpzPSOkY_0GH",
        "outputId": "d2d9bbe1-addb-44cd-94ff-f34d6ccd6ed0"
      },
      "execution_count": 11,
      "outputs": [
        {
          "output_type": "stream",
          "name": "stdout",
          "text": [
            "time: 4.36 ms (started: 2025-02-17 14:42:07 +00:00)\n"
          ]
        }
      ]
    },
    {
      "cell_type": "markdown",
      "source": [
        "## Download all papers locally"
      ],
      "metadata": {
        "id": "NHv-Foa5Ko0V"
      }
    },
    {
      "cell_type": "code",
      "source": [
        "os.mkdir('pdfs')\n",
        "\n",
        "i = 0\n",
        "for id_, url_ in zip(paper_ids, paper_urls):\n",
        "    _ = urllib_req.urlretrieve(url_, f\"pdfs/{id_}.pdf\")\n",
        "\n",
        "    i += 1\n",
        "    if i % 10 == 0:\n",
        "        print(f\"Downloaded {i} papers\")"
      ],
      "metadata": {
        "colab": {
          "base_uri": "https://localhost:8080/"
        },
        "id": "GsZItTXDZEKu",
        "outputId": "2e1e9e70-2697-4985-ecc9-597de6f33ecf"
      },
      "execution_count": 12,
      "outputs": [
        {
          "output_type": "stream",
          "name": "stdout",
          "text": [
            "Downloaded 10 papers\n",
            "Downloaded 20 papers\n",
            "Downloaded 30 papers\n",
            "Downloaded 40 papers\n",
            "Downloaded 50 papers\n",
            "Downloaded 60 papers\n",
            "Downloaded 70 papers\n",
            "Downloaded 80 papers\n",
            "Downloaded 90 papers\n",
            "Downloaded 100 papers\n",
            "Downloaded 110 papers\n",
            "Downloaded 120 papers\n",
            "time: 30.3 s (started: 2025-02-17 14:42:07 +00:00)\n"
          ]
        }
      ]
    },
    {
      "cell_type": "code",
      "source": [
        "len(os.listdir('pdfs'))  # just to check count"
      ],
      "metadata": {
        "colab": {
          "base_uri": "https://localhost:8080/"
        },
        "id": "kviwBfwughb1",
        "outputId": "bcfcaa11-1d02-4790-9e62-7e5e1e42a26a"
      },
      "execution_count": 13,
      "outputs": [
        {
          "output_type": "execute_result",
          "data": {
            "text/plain": [
              "123"
            ]
          },
          "metadata": {},
          "execution_count": 13
        },
        {
          "output_type": "stream",
          "name": "stdout",
          "text": [
            "time: 3.91 ms (started: 2025-02-17 14:42:37 +00:00)\n"
          ]
        }
      ]
    },
    {
      "cell_type": "markdown",
      "source": [
        "## Make Gemini summarise each paper"
      ],
      "metadata": {
        "id": "9TD9hhq-aoM1"
      }
    },
    {
      "cell_type": "code",
      "source": [
        "# prompt\n",
        "sys_instruct = \"\"\"\n",
        "                You are an experienced reader of academic literature and\n",
        "                an expert in distilling important findings in a way that is understandable and clear.\n",
        "               \"\"\"\n",
        "\n",
        "prompt = \"\"\"This is a paper on AI.\n",
        "            Summarise its results in 3 lines, avoiding obscure jargon and going to the point.\n",
        "            If there are valuable examples that aid understanding, report them in a nutshell.\n",
        "            \"\"\""
      ],
      "metadata": {
        "colab": {
          "base_uri": "https://localhost:8080/"
        },
        "id": "1Qu4OSOYgfC8",
        "outputId": "f5bc43ba-6a5f-4977-d490-2f8e4fdb160e"
      },
      "execution_count": 14,
      "outputs": [
        {
          "output_type": "stream",
          "name": "stdout",
          "text": [
            "time: 478 µs (started: 2025-02-17 14:42:37 +00:00)\n"
          ]
        }
      ]
    },
    {
      "cell_type": "code",
      "source": [
        "# create a dir for model responses (text)\n",
        "os.mkdir('responses')"
      ],
      "metadata": {
        "colab": {
          "base_uri": "https://localhost:8080/"
        },
        "id": "J9--OwUrgu_m",
        "outputId": "e8fb3756-8fa4-4d29-e3b4-88dad10923df"
      },
      "execution_count": 15,
      "outputs": [
        {
          "output_type": "stream",
          "name": "stdout",
          "text": [
            "time: 578 µs (started: 2025-02-17 14:42:37 +00:00)\n"
          ]
        }
      ]
    },
    {
      "cell_type": "code",
      "source": [
        "# create some dicts for metadata\n",
        "d_usage, d_latency = {}, {}"
      ],
      "metadata": {
        "colab": {
          "base_uri": "https://localhost:8080/"
        },
        "id": "d-6V3-QyiMdi",
        "outputId": "48dea085-ea22-42ca-e0e6-12c7ce209ad6"
      },
      "execution_count": 25,
      "outputs": [
        {
          "output_type": "stream",
          "name": "stdout",
          "text": [
            "time: 466 µs (started: 2025-02-17 14:47:01 +00:00)\n"
          ]
        }
      ]
    },
    {
      "cell_type": "code",
      "source": [
        "i = 0\n",
        "for filename in os.listdir('pdfs')[:]:\n",
        "\n",
        "    print(filename, i)\n",
        "\n",
        "    # this passes the file as is to Gemini, no need to read its text content first\n",
        "    file_ = client.files.upload(file=f'pdfs/{filename}')\n",
        "    start_time = datetime.now()\n",
        "    response = client.models.generate_content(\n",
        "        model=model,\n",
        "        config=types.GenerateContentConfig(system_instruction=sys_instruct, temperature=0),\n",
        "        contents=[prompt, file_])\n",
        "    end_time = datetime.now()\n",
        "\n",
        "    id_ = filename.split('.pdf')[0]\n",
        "    d_usage[id_] = {\n",
        "        'prompt_token_count': response.usage_metadata.prompt_token_count,\n",
        "        'candidates_token_count': response.usage_metadata.candidates_token_count,\n",
        "        'cached_content_token_count': response.usage_metadata.cached_content_token_count}\n",
        "    d_latency[id_] = (end_time - start_time).total_seconds()\n",
        "\n",
        "    # create file of text response\n",
        "    with open(f'responses/{id_}.txt', 'w') as f:\n",
        "        f.write(response.text)\n",
        "\n",
        "    # also dump usage and latency at each execution\n",
        "    json.dump(d_usage, open(f'usage.json', 'w'))\n",
        "    json.dump(d_latency, open(f'latency.json', 'w'))\n",
        "\n",
        "    i += 1"
      ],
      "metadata": {
        "colab": {
          "base_uri": "https://localhost:8080/"
        },
        "id": "fJtFYt0tZHe9",
        "outputId": "9789a193-5c0c-4b54-f8fd-f63f67334870"
      },
      "execution_count": null,
      "outputs": [
        {
          "output_type": "stream",
          "name": "stdout",
          "text": [
            "2502.09687.pdf 0\n",
            "2502.10038.pdf 1\n",
            "2502.10193.pdf 2\n",
            "2502.09642.pdf 3\n",
            "2502.09925.pdf 4\n"
          ]
        }
      ]
    },
    {
      "cell_type": "code",
      "source": [
        "response[1]"
      ],
      "metadata": {
        "colab": {
          "base_uri": "https://localhost:8080/",
          "height": 159
        },
        "id": "U8V9CoB2X5ra",
        "outputId": "05c4c09a-e62a-4680-a2ff-c7a3c9bcefb0"
      },
      "execution_count": 23,
      "outputs": [
        {
          "output_type": "error",
          "ename": "IndexError",
          "evalue": "tuple index out of range",
          "traceback": [
            "\u001b[0;31m---------------------------------------------------------------------------\u001b[0m",
            "\u001b[0;31mIndexError\u001b[0m                                Traceback (most recent call last)",
            "\u001b[0;32m<ipython-input-23-773312987b3b>\u001b[0m in \u001b[0;36m<cell line: 0>\u001b[0;34m()\u001b[0m\n\u001b[0;32m----> 1\u001b[0;31m \u001b[0mresponse\u001b[0m\u001b[0;34m[\u001b[0m\u001b[0;36m1\u001b[0m\u001b[0;34m]\u001b[0m\u001b[0;34m\u001b[0m\u001b[0;34m\u001b[0m\u001b[0m\n\u001b[0m",
            "\u001b[0;31mIndexError\u001b[0m: tuple index out of range"
          ]
        },
        {
          "output_type": "stream",
          "name": "stdout",
          "text": [
            "time: 75.1 ms (started: 2025-02-17 14:46:39 +00:00)\n"
          ]
        }
      ]
    },
    {
      "cell_type": "markdown",
      "source": [
        "## Run some stats"
      ],
      "metadata": {
        "id": "wtUaxd2Qjhup"
      }
    },
    {
      "cell_type": "code",
      "source": [
        "# num papers summarised\n",
        "print('Summaries for ', day)\n",
        "print('Num papers published: ', n_entries)\n",
        "print('Num papers summarised: ', len(os.listdir('responses')))\n",
        "print('Median input/output tokens',\n",
        "      np.percentile([d_usage[k]['prompt_token_count'] for k in d_usage.keys()], 50),\n",
        "      np.percentile([d_usage[k]['candidates_token_count'] for k in d_usage.keys()], 50))\n",
        "print('Median/P90 latency per paper: ',\n",
        "      np.percentile([d_latency[k] for k in d_usage.keys()], 50),\n",
        "      np.percentile([d_latency[k] for k in d_usage.keys()], 90))"
      ],
      "metadata": {
        "id": "BZmHoOp4jjAn"
      },
      "execution_count": null,
      "outputs": []
    },
    {
      "cell_type": "code",
      "source": [
        "# zip all responses\n",
        "!zip -r responses.zip responses"
      ],
      "metadata": {
        "collapsed": true,
        "id": "aNJnwAIMoBvR"
      },
      "execution_count": null,
      "outputs": []
    },
    {
      "cell_type": "markdown",
      "source": [
        "## Create HTML page with all summaries"
      ],
      "metadata": {
        "id": "OofFXJAPAFNv"
      }
    },
    {
      "cell_type": "code",
      "source": [
        "paper_urls[:3]\n",
        "paper_metadata = json.load(open('paper_metadata.json', 'r'))"
      ],
      "metadata": {
        "id": "txNRTYzLoh-D"
      },
      "execution_count": null,
      "outputs": []
    },
    {
      "cell_type": "code",
      "source": [
        "# this part below was contributed by Gemini after a prompt!\n",
        "# prompt: Create HTML document listing all texts in folder response one after the other. Use the data in paper_metadata to create titles for each entry and an href for the link\n",
        "\n",
        "# Load paper metadata\n",
        "paper_metadata = json.load(open('paper_metadata.json', 'r'))\n",
        "\n",
        "# Create HTML content\n",
        "html_content = \"\"\"<!DOCTYPE html>\n",
        "<html>\n",
        "<head>\n",
        "<title>Paper Summaries</title>\n",
        "</head>\n",
        "<body>\n",
        "\"\"\"\n",
        "\n",
        "for filename in os.listdir('responses'):\n",
        "    paper_id = filename.split('.txt')[0]\n",
        "    if paper_id in paper_metadata:\n",
        "      title = paper_metadata[paper_id]['title']\n",
        "      url = paper_metadata[paper_id]['url']\n",
        "      with open(os.path.join('responses', filename), 'r') as f:\n",
        "          summary = f.read()\n",
        "          html_content += f\"<h1><a href='{url}'>{title}</a></h1>\\n\"\n",
        "          html_content += f\"<p>{summary}</p>\\n<hr>\\n\"\n",
        "\n",
        "html_content += \"\"\"</body>\n",
        "</html>\"\"\"\n",
        "\n",
        "# Write HTML to file\n",
        "with open('paper_summaries.html', 'w') as f:\n",
        "    f.write(html_content)\n"
      ],
      "metadata": {
        "id": "X-tXZXNKAZNB"
      },
      "execution_count": null,
      "outputs": []
    },
    {
      "cell_type": "code",
      "source": [
        "# now you could send that summary HTML via email if you want\n",
        "# or publish it somewhere\n",
        "# I may just keep it as is for now while I test this for a few days\n",
        "\n",
        "# the whole job could be made"
      ],
      "metadata": {
        "id": "inT2pAbUA8AT"
      },
      "execution_count": null,
      "outputs": []
    },
    {
      "cell_type": "code",
      "source": [],
      "metadata": {
        "id": "vGNrOgTsHaVt"
      },
      "execution_count": null,
      "outputs": []
    }
  ]
}